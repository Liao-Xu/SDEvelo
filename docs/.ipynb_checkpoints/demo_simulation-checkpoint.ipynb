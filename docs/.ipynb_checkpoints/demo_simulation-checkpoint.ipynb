{
 "cells": [
  {
   "cell_type": "markdown",
   "id": "1181e70e-fe07-4a38-9763-74c2055f2b36",
   "metadata": {},
   "source": [
    "## Generate SDE-based simulation data"
   ]
  },
  {
   "cell_type": "code",
   "execution_count": 1,
   "id": "608c61a1-23ba-40a3-b6f9-c0e70aa1b0a2",
   "metadata": {},
   "outputs": [
    {
     "name": "stdout",
     "output_type": "stream",
     "text": [
      "Working on SDEvelo\n",
      "Loss: 0.767, alpha: 5.61, beta: 5.75, gamma: 0.25, s1: 0.011, s2: 0.010,  t_m: 0.759,  u_shift: 0.009,  s_shift: 0.009\n"
     ]
    }
   ],
   "source": [
    "import sdevelo as sv\n",
    "%matplotlib inline\n",
    "\n",
    "simulation = sv.SimData(n_vars=100)\n",
    "adata = simulation.generate()"
   ]
  },
  {
   "cell_type": "markdown",
   "id": "4293ce80-42bb-45b8-82cc-cbecc4c207a8",
   "metadata": {},
   "source": [
    "## Train SDEvelo model"
   ]
  },
  {
   "cell_type": "code",
   "execution_count": null,
   "id": "4952d0ee-6bbb-4fba-b8c7-25ed3401040b",
   "metadata": {},
   "outputs": [],
   "source": [
    "args = sv.Config()\n",
    "model = sv.SDENN(args, adata)\n",
    "adata = model.train(args.nEpochs)"
   ]
  },
  {
   "cell_type": "markdown",
   "id": "0dcb60b5-2ac9-4005-9f23-d5521bdf3fe2",
   "metadata": {},
   "source": [
    "## Visualization"
   ]
  },
  {
   "cell_type": "code",
   "execution_count": null,
   "id": "f57673f3-5a51-4f3a-990d-7b6b3bb7a635",
   "metadata": {},
   "outputs": [],
   "source": [
    "sv.plot_streamline(adata, args)\n",
    "sv.plot_latent_time(adata, args)"
   ]
  }
 ],
 "metadata": {
  "kernelspec": {
   "display_name": "Python 3 (ipykernel)",
   "language": "python",
   "name": "python3"
  },
  "language_info": {
   "codemirror_mode": {
    "name": "ipython",
    "version": 3
   },
   "file_extension": ".py",
   "mimetype": "text/x-python",
   "name": "python",
   "nbconvert_exporter": "python",
   "pygments_lexer": "ipython3",
   "version": "3.8.18"
  }
 },
 "nbformat": 4,
 "nbformat_minor": 5
}
